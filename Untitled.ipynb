{
 "cells": [
  {
   "cell_type": "markdown",
   "id": "a16bf797",
   "metadata": {},
   "source": [
    "# McDonald's Menu Item Type Prediction"
   ]
  },
  {
   "cell_type": "code",
   "execution_count": 1,
   "id": "f2779188",
   "metadata": {},
   "outputs": [
    {
     "name": "stderr",
     "output_type": "stream",
     "text": [
      "2023-07-12 16:52:13.458305: I tensorflow/core/platform/cpu_feature_guard.cc:182] This TensorFlow binary is optimized to use available CPU instructions in performance-critical operations.\n",
      "To enable the following instructions: AVX2 FMA, in other operations, rebuild TensorFlow with the appropriate compiler flags.\n"
     ]
    }
   ],
   "source": [
    "import pandas as pd\n",
    "import numpy as np\n",
    "import seaborn as sns\n",
    "import matplotlib.pyplot as plt\n",
    "%matplotlib inline\n",
    "import plotly.offline as py\n",
    "import plotly.graph_objs as go\n",
    "import plotly.tools as tls\n",
    "import warnings\n",
    "warnings.filterwarnings('ignore')\n",
    "import missingno as msno\n",
    "import re\n",
    "from tensorflow.keras.preprocessing.text import Tokenizer\n",
    "from tensorflow.keras.preprocessing.sequence import pad_sequences\n",
    "from sklearn.preprocessing import LabelEncoder, StandardScaler\n",
    "from sklearn.model_selection import train_test_split\n",
    "\n",
    "import tensorflow as tf"
   ]
  },
  {
   "cell_type": "code",
   "execution_count": 2,
   "id": "475b01fc",
   "metadata": {},
   "outputs": [
    {
     "data": {
      "text/html": [
       "<div>\n",
       "<style scoped>\n",
       "    .dataframe tbody tr th:only-of-type {\n",
       "        vertical-align: middle;\n",
       "    }\n",
       "\n",
       "    .dataframe tbody tr th {\n",
       "        vertical-align: top;\n",
       "    }\n",
       "\n",
       "    .dataframe thead th {\n",
       "        text-align: right;\n",
       "    }\n",
       "</style>\n",
       "<table border=\"1\" class=\"dataframe\">\n",
       "  <thead>\n",
       "    <tr style=\"text-align: right;\">\n",
       "      <th></th>\n",
       "      <th>Category</th>\n",
       "      <th>Item</th>\n",
       "      <th>Serving Size</th>\n",
       "      <th>Calories</th>\n",
       "      <th>Calories from Fat</th>\n",
       "      <th>Total Fat</th>\n",
       "      <th>Total Fat (% Daily Value)</th>\n",
       "      <th>Saturated Fat</th>\n",
       "      <th>Saturated Fat (% Daily Value)</th>\n",
       "      <th>Trans Fat</th>\n",
       "      <th>...</th>\n",
       "      <th>Carbohydrates</th>\n",
       "      <th>Carbohydrates (% Daily Value)</th>\n",
       "      <th>Dietary Fiber</th>\n",
       "      <th>Dietary Fiber (% Daily Value)</th>\n",
       "      <th>Sugars</th>\n",
       "      <th>Protein</th>\n",
       "      <th>Vitamin A (% Daily Value)</th>\n",
       "      <th>Vitamin C (% Daily Value)</th>\n",
       "      <th>Calcium (% Daily Value)</th>\n",
       "      <th>Iron (% Daily Value)</th>\n",
       "    </tr>\n",
       "  </thead>\n",
       "  <tbody>\n",
       "    <tr>\n",
       "      <th>0</th>\n",
       "      <td>Breakfast</td>\n",
       "      <td>Egg McMuffin</td>\n",
       "      <td>4.8 oz (136 g)</td>\n",
       "      <td>300</td>\n",
       "      <td>120</td>\n",
       "      <td>13.0</td>\n",
       "      <td>20</td>\n",
       "      <td>5.0</td>\n",
       "      <td>25</td>\n",
       "      <td>0.0</td>\n",
       "      <td>...</td>\n",
       "      <td>31</td>\n",
       "      <td>10</td>\n",
       "      <td>4</td>\n",
       "      <td>17</td>\n",
       "      <td>3</td>\n",
       "      <td>17</td>\n",
       "      <td>10</td>\n",
       "      <td>0</td>\n",
       "      <td>25</td>\n",
       "      <td>15</td>\n",
       "    </tr>\n",
       "    <tr>\n",
       "      <th>1</th>\n",
       "      <td>Breakfast</td>\n",
       "      <td>Egg White Delight</td>\n",
       "      <td>4.8 oz (135 g)</td>\n",
       "      <td>250</td>\n",
       "      <td>70</td>\n",
       "      <td>8.0</td>\n",
       "      <td>12</td>\n",
       "      <td>3.0</td>\n",
       "      <td>15</td>\n",
       "      <td>0.0</td>\n",
       "      <td>...</td>\n",
       "      <td>30</td>\n",
       "      <td>10</td>\n",
       "      <td>4</td>\n",
       "      <td>17</td>\n",
       "      <td>3</td>\n",
       "      <td>18</td>\n",
       "      <td>6</td>\n",
       "      <td>0</td>\n",
       "      <td>25</td>\n",
       "      <td>8</td>\n",
       "    </tr>\n",
       "    <tr>\n",
       "      <th>2</th>\n",
       "      <td>Breakfast</td>\n",
       "      <td>Sausage McMuffin</td>\n",
       "      <td>3.9 oz (111 g)</td>\n",
       "      <td>370</td>\n",
       "      <td>200</td>\n",
       "      <td>23.0</td>\n",
       "      <td>35</td>\n",
       "      <td>8.0</td>\n",
       "      <td>42</td>\n",
       "      <td>0.0</td>\n",
       "      <td>...</td>\n",
       "      <td>29</td>\n",
       "      <td>10</td>\n",
       "      <td>4</td>\n",
       "      <td>17</td>\n",
       "      <td>2</td>\n",
       "      <td>14</td>\n",
       "      <td>8</td>\n",
       "      <td>0</td>\n",
       "      <td>25</td>\n",
       "      <td>10</td>\n",
       "    </tr>\n",
       "    <tr>\n",
       "      <th>3</th>\n",
       "      <td>Breakfast</td>\n",
       "      <td>Sausage McMuffin with Egg</td>\n",
       "      <td>5.7 oz (161 g)</td>\n",
       "      <td>450</td>\n",
       "      <td>250</td>\n",
       "      <td>28.0</td>\n",
       "      <td>43</td>\n",
       "      <td>10.0</td>\n",
       "      <td>52</td>\n",
       "      <td>0.0</td>\n",
       "      <td>...</td>\n",
       "      <td>30</td>\n",
       "      <td>10</td>\n",
       "      <td>4</td>\n",
       "      <td>17</td>\n",
       "      <td>2</td>\n",
       "      <td>21</td>\n",
       "      <td>15</td>\n",
       "      <td>0</td>\n",
       "      <td>30</td>\n",
       "      <td>15</td>\n",
       "    </tr>\n",
       "    <tr>\n",
       "      <th>4</th>\n",
       "      <td>Breakfast</td>\n",
       "      <td>Sausage McMuffin with Egg Whites</td>\n",
       "      <td>5.7 oz (161 g)</td>\n",
       "      <td>400</td>\n",
       "      <td>210</td>\n",
       "      <td>23.0</td>\n",
       "      <td>35</td>\n",
       "      <td>8.0</td>\n",
       "      <td>42</td>\n",
       "      <td>0.0</td>\n",
       "      <td>...</td>\n",
       "      <td>30</td>\n",
       "      <td>10</td>\n",
       "      <td>4</td>\n",
       "      <td>17</td>\n",
       "      <td>2</td>\n",
       "      <td>21</td>\n",
       "      <td>6</td>\n",
       "      <td>0</td>\n",
       "      <td>25</td>\n",
       "      <td>10</td>\n",
       "    </tr>\n",
       "  </tbody>\n",
       "</table>\n",
       "<p>5 rows × 24 columns</p>\n",
       "</div>"
      ],
      "text/plain": [
       "    Category                              Item    Serving Size  Calories  \\\n",
       "0  Breakfast                      Egg McMuffin  4.8 oz (136 g)       300   \n",
       "1  Breakfast                 Egg White Delight  4.8 oz (135 g)       250   \n",
       "2  Breakfast                  Sausage McMuffin  3.9 oz (111 g)       370   \n",
       "3  Breakfast         Sausage McMuffin with Egg  5.7 oz (161 g)       450   \n",
       "4  Breakfast  Sausage McMuffin with Egg Whites  5.7 oz (161 g)       400   \n",
       "\n",
       "   Calories from Fat  Total Fat  Total Fat (% Daily Value)  Saturated Fat  \\\n",
       "0                120       13.0                         20            5.0   \n",
       "1                 70        8.0                         12            3.0   \n",
       "2                200       23.0                         35            8.0   \n",
       "3                250       28.0                         43           10.0   \n",
       "4                210       23.0                         35            8.0   \n",
       "\n",
       "   Saturated Fat (% Daily Value)  Trans Fat  ...  Carbohydrates  \\\n",
       "0                             25        0.0  ...             31   \n",
       "1                             15        0.0  ...             30   \n",
       "2                             42        0.0  ...             29   \n",
       "3                             52        0.0  ...             30   \n",
       "4                             42        0.0  ...             30   \n",
       "\n",
       "   Carbohydrates (% Daily Value)  Dietary Fiber  \\\n",
       "0                             10              4   \n",
       "1                             10              4   \n",
       "2                             10              4   \n",
       "3                             10              4   \n",
       "4                             10              4   \n",
       "\n",
       "   Dietary Fiber (% Daily Value)  Sugars  Protein  Vitamin A (% Daily Value)  \\\n",
       "0                             17       3       17                         10   \n",
       "1                             17       3       18                          6   \n",
       "2                             17       2       14                          8   \n",
       "3                             17       2       21                         15   \n",
       "4                             17       2       21                          6   \n",
       "\n",
       "   Vitamin C (% Daily Value)  Calcium (% Daily Value)  Iron (% Daily Value)  \n",
       "0                          0                       25                    15  \n",
       "1                          0                       25                     8  \n",
       "2                          0                       25                    10  \n",
       "3                          0                       30                    15  \n",
       "4                          0                       25                    10  \n",
       "\n",
       "[5 rows x 24 columns]"
      ]
     },
     "execution_count": 2,
     "metadata": {},
     "output_type": "execute_result"
    }
   ],
   "source": [
    "data = pd.read_csv('/Users/jdapeman/Documents/McDonalds eda/menu.csv')\n",
    "data.head()"
   ]
  },
  {
   "cell_type": "markdown",
   "id": "8471d29c",
   "metadata": {},
   "source": [
    "Quick checks on Data quality\n",
    "\n",
    "Always imperative to check first on the quality of the data - i.e whether there are any nulls or blanks in the columns/features, the row and column wise sizes as well as whether any of the numbers don't make sense (like having any infinities in the values. We can accomplish all these as such"
   ]
  },
  {
   "cell_type": "code",
   "execution_count": 3,
   "id": "b8c47be4",
   "metadata": {
    "scrolled": false
   },
   "outputs": [
    {
     "name": "stdout",
     "output_type": "stream",
     "text": [
      "Category                         False\n",
      "Item                             False\n",
      "Serving Size                     False\n",
      "Calories                         False\n",
      "Calories from Fat                False\n",
      "Total Fat                        False\n",
      "Total Fat (% Daily Value)        False\n",
      "Saturated Fat                    False\n",
      "Saturated Fat (% Daily Value)    False\n",
      "Trans Fat                        False\n",
      "Cholesterol                      False\n",
      "Cholesterol (% Daily Value)      False\n",
      "Sodium                           False\n",
      "Sodium (% Daily Value)           False\n",
      "Carbohydrates                    False\n",
      "Carbohydrates (% Daily Value)    False\n",
      "Dietary Fiber                    False\n",
      "Dietary Fiber (% Daily Value)    False\n",
      "Sugars                           False\n",
      "Protein                          False\n",
      "Vitamin A (% Daily Value)        False\n",
      "Vitamin C (% Daily Value)        False\n",
      "Calcium (% Daily Value)          False\n",
      "Iron (% Daily Value)             False\n",
      "dtype: bool\n",
      "--------------------------------------\n",
      "          Calories  Calories from Fat   Total Fat  Total Fat (% Daily Value)  \\\n",
      "count   260.000000         260.000000  260.000000                 260.000000   \n",
      "mean    368.269231         127.096154   14.165385                  21.815385   \n",
      "std     240.269886         127.875914   14.205998                  21.885199   \n",
      "min       0.000000           0.000000    0.000000                   0.000000   \n",
      "25%     210.000000          20.000000    2.375000                   3.750000   \n",
      "50%     340.000000         100.000000   11.000000                  17.000000   \n",
      "75%     500.000000         200.000000   22.250000                  35.000000   \n",
      "max    1880.000000        1060.000000  118.000000                 182.000000   \n",
      "\n",
      "       Saturated Fat  Saturated Fat (% Daily Value)   Trans Fat  Cholesterol  \\\n",
      "count     260.000000                     260.000000  260.000000   260.000000   \n",
      "mean        6.007692                      29.965385    0.203846    54.942308   \n",
      "std         5.321873                      26.639209    0.429133    87.269257   \n",
      "min         0.000000                       0.000000    0.000000     0.000000   \n",
      "25%         1.000000                       4.750000    0.000000     5.000000   \n",
      "50%         5.000000                      24.000000    0.000000    35.000000   \n",
      "75%        10.000000                      48.000000    0.000000    65.000000   \n",
      "max        20.000000                     102.000000    2.500000   575.000000   \n",
      "\n",
      "       Cholesterol (% Daily Value)       Sodium  ...  Carbohydrates  \\\n",
      "count                   260.000000   260.000000  ...     260.000000   \n",
      "mean                     18.392308   495.750000  ...      47.346154   \n",
      "std                      29.091653   577.026323  ...      28.252232   \n",
      "min                       0.000000     0.000000  ...       0.000000   \n",
      "25%                       2.000000   107.500000  ...      30.000000   \n",
      "50%                      11.000000   190.000000  ...      44.000000   \n",
      "75%                      21.250000   865.000000  ...      60.000000   \n",
      "max                     192.000000  3600.000000  ...     141.000000   \n",
      "\n",
      "       Carbohydrates (% Daily Value)  Dietary Fiber  \\\n",
      "count                     260.000000     260.000000   \n",
      "mean                       15.780769       1.630769   \n",
      "std                         9.419544       1.567717   \n",
      "min                         0.000000       0.000000   \n",
      "25%                        10.000000       0.000000   \n",
      "50%                        15.000000       1.000000   \n",
      "75%                        20.000000       3.000000   \n",
      "max                        47.000000       7.000000   \n",
      "\n",
      "       Dietary Fiber (% Daily Value)      Sugars     Protein  \\\n",
      "count                     260.000000  260.000000  260.000000   \n",
      "mean                        6.530769   29.423077   13.338462   \n",
      "std                         6.307057   28.679797   11.426146   \n",
      "min                         0.000000    0.000000    0.000000   \n",
      "25%                         0.000000    5.750000    4.000000   \n",
      "50%                         5.000000   17.500000   12.000000   \n",
      "75%                        10.000000   48.000000   19.000000   \n",
      "max                        28.000000  128.000000   87.000000   \n",
      "\n",
      "       Vitamin A (% Daily Value)  Vitamin C (% Daily Value)  \\\n",
      "count                 260.000000                 260.000000   \n",
      "mean                   13.426923                   8.534615   \n",
      "std                    24.366381                  26.345542   \n",
      "min                     0.000000                   0.000000   \n",
      "25%                     2.000000                   0.000000   \n",
      "50%                     8.000000                   0.000000   \n",
      "75%                    15.000000                   4.000000   \n",
      "max                   170.000000                 240.000000   \n",
      "\n",
      "       Calcium (% Daily Value)  Iron (% Daily Value)  \n",
      "count               260.000000            260.000000  \n",
      "mean                 20.973077              7.734615  \n",
      "std                  17.019953              8.723263  \n",
      "min                   0.000000              0.000000  \n",
      "25%                   6.000000              0.000000  \n",
      "50%                  20.000000              4.000000  \n",
      "75%                  30.000000             15.000000  \n",
      "max                  70.000000             40.000000  \n",
      "\n",
      "[8 rows x 21 columns]\n",
      "--------------------------------------\n"
     ]
    }
   ],
   "source": [
    "# Check for Nulls\n",
    "print(data.isnull().any())\n",
    "print(\"--------------------------------------\")\n",
    "# check for numbers\n",
    "print(data.describe())\n",
    "print(\"--------------------------------------\")"
   ]
  },
  {
   "cell_type": "markdown",
   "id": "3ca79687",
   "metadata": {},
   "source": [
    "McDonald's Menu Item Type Prediction\n",
    "Given data about McDonald's menu items, let's try to predict the type of a given item.\n",
    "\n",
    "We will use a TensorFlow ANN with two inputs to make our predictions."
   ]
  },
  {
   "cell_type": "code",
   "execution_count": 4,
   "id": "b7292bfd",
   "metadata": {},
   "outputs": [
    {
     "data": {
      "text/plain": [
       "array(['Breakfast', 'Beef & Pork', 'Chicken & Fish', 'Salads',\n",
       "       'Snacks & Sides', 'Desserts', 'Beverages', 'Coffee & Tea',\n",
       "       'Smoothies & Shakes'], dtype=object)"
      ]
     },
     "execution_count": 4,
     "metadata": {},
     "output_type": "execute_result"
    }
   ],
   "source": [
    "data['Category'].unique()"
   ]
  },
  {
   "cell_type": "code",
   "execution_count": 5,
   "id": "486ffb5b",
   "metadata": {},
   "outputs": [
    {
     "data": {
      "text/plain": [
       "{0: 'Beef & Pork',\n",
       " 1: 'Beverages',\n",
       " 2: 'Breakfast',\n",
       " 3: 'Chicken & Fish',\n",
       " 4: 'Coffee & Tea',\n",
       " 5: 'Desserts',\n",
       " 6: 'Salads',\n",
       " 7: 'Smoothies & Shakes',\n",
       " 8: 'Snacks & Sides'}"
      ]
     },
     "execution_count": 5,
     "metadata": {},
     "output_type": "execute_result"
    }
   ],
   "source": [
    "label_encoder = LabelEncoder()\n",
    "\n",
    "data['Category'] = label_encoder.fit_transform(data['Category'])\n",
    "\n",
    "label_mappings = dict(enumerate(label_encoder.classes_))\n",
    "label_mappings"
   ]
  },
  {
   "cell_type": "code",
   "execution_count": 6,
   "id": "1109b3a3",
   "metadata": {},
   "outputs": [],
   "source": [
    "names = data['Item'].copy()\n",
    "\n",
    "tokenizer = Tokenizer()\n",
    "tokenizer.fit_on_texts(names)\n",
    "\n",
    "names = tokenizer.texts_to_sequences(names)"
   ]
  },
  {
   "cell_type": "code",
   "execution_count": 7,
   "id": "47870ac8",
   "metadata": {},
   "outputs": [
    {
     "name": "stdout",
     "output_type": "stream",
     "text": [
      "Vocabulary length: 155\n",
      "Max sequence length: 9\n"
     ]
    }
   ],
   "source": [
    "vocab_length = len(tokenizer.word_index) + 1\n",
    "\n",
    "max_seq_length = np.max(list(map(lambda x: len(x), names)))\n",
    "\n",
    "print(\"Vocabulary length:\", vocab_length)\n",
    "print(\"Max sequence length:\", max_seq_length)"
   ]
  },
  {
   "cell_type": "code",
   "execution_count": 8,
   "id": "32c62998",
   "metadata": {},
   "outputs": [
    {
     "data": {
      "text/plain": [
       "array([[  8,  52,   0, ...,   0,   0,   0],\n",
       "       [  8, 113, 114, ...,   0,   0,   0],\n",
       "       [ 18,  52,   0, ...,   0,   0,   0],\n",
       "       ...,\n",
       "       [ 44,   2,  90, ...,   0,   0,   0],\n",
       "       [ 44,   2, 109, ...,   3,   0,   0],\n",
       "       [ 44,   2, 109, ...,  32,   0,   0]], dtype=int32)"
      ]
     },
     "execution_count": 8,
     "metadata": {},
     "output_type": "execute_result"
    }
   ],
   "source": [
    "names = pad_sequences(names, maxlen=max_seq_length, padding='post')\n",
    "names"
   ]
  },
  {
   "cell_type": "code",
   "execution_count": 9,
   "id": "31ce994a",
   "metadata": {},
   "outputs": [],
   "source": [
    "data = data.drop('Item', axis=1)"
   ]
  },
  {
   "cell_type": "markdown",
   "id": "d156b46d",
   "metadata": {},
   "source": [
    "Cleaning Serving Size Feature"
   ]
  },
  {
   "cell_type": "code",
   "execution_count": 10,
   "id": "2338c22b",
   "metadata": {},
   "outputs": [
    {
     "data": {
      "text/plain": [
       "0       4.8 oz (136 g)\n",
       "1       4.8 oz (135 g)\n",
       "2       3.9 oz (111 g)\n",
       "3       5.7 oz (161 g)\n",
       "4       5.7 oz (161 g)\n",
       "            ...       \n",
       "255    10.1 oz (285 g)\n",
       "256    13.4 oz (381 g)\n",
       "257     6.7 oz (190 g)\n",
       "258    14.2 oz (403 g)\n",
       "259     7.1 oz (202 g)\n",
       "Name: Serving Size, Length: 260, dtype: object"
      ]
     },
     "execution_count": 10,
     "metadata": {},
     "output_type": "execute_result"
    }
   ],
   "source": [
    "data['Serving Size']"
   ]
  },
  {
   "cell_type": "code",
   "execution_count": 11,
   "id": "d25960f5",
   "metadata": {},
   "outputs": [
    {
     "data": {
      "text/plain": [
       "array(['4.8 oz (136 g)', '4.8 oz (135 g)', '3.9 oz (111 g)',\n",
       "       '5.7 oz (161 g)', '6.5 oz (185 g)', '5.3 oz (150 g)',\n",
       "       '5.8 oz (164 g)', '5.4 oz (153 g)', '5.9 oz (167 g)',\n",
       "       '4.1 oz (117 g)', '4.6 oz (131 g)', '5.7 oz (163 g)',\n",
       "       '6.2 oz (177 g)', '6.4 oz (181 g)', '5 oz (143 g)',\n",
       "       '5.5 oz (157 g)', '7.1 oz (201 g)', '6.1 oz (174 g)',\n",
       "       '6.3 oz (178 g)', '5 oz (141 g)', '7.2 oz (205 g)',\n",
       "       '6.9 oz (197 g)', '8.5 oz (241 g)', '9.5 oz (269 g)',\n",
       "       '10 oz (283 g)', '9.6 oz (272 g)', '10.1 oz (286 g)',\n",
       "       '14.8 oz (420 g)', '15.3 oz (434 g)', '14.9 oz (423 g)',\n",
       "       '15.4 oz (437 g)', '5.3 oz (151 g)', '6.8 oz (192 g)',\n",
       "       '2 oz (56 g)', '4 oz (114 g)', '9.6 oz (251 g)', '7.4 oz (211 g)',\n",
       "       '7.1 oz (202 g)', '8 oz (227 g)', '8.3 oz (235 g)',\n",
       "       '8.6 oz (244 g)', '3.5 oz (98 g)', '4 oz (113 g)',\n",
       "       '9.5 oz (270 g)', '5.2 oz (147 g)', '6.7 oz (190 g)',\n",
       "       '5.6 oz (159 g)', '7.3 oz (208 g)', '7.5 oz (213 g)',\n",
       "       '7 oz (200 g)', '8.8 oz (249 g)', '8.1 oz (230 g)',\n",
       "       '7.6 oz (217 g)', '10 oz (284 g)', '5.6 oz (160 g)',\n",
       "       '5.1 oz (143 g)', '6 oz (171 g)', '5.2 oz (148 g)',\n",
       "       '11.1 oz (316 g)', '10.7 oz (302 g)', '10.9 oz (310 g)',\n",
       "       '10.5 oz (297 g)', '11.1 oz (314 g)', '11.2 oz (318 g)',\n",
       "       '10.7 oz (304 g)', '10.3 oz (291 g)', '2.3 oz (65 g)',\n",
       "       '3.4 oz (97 g)', '5.7 oz (162 g)', '11.4 oz (323 g)',\n",
       "       '22.8 oz (646 g)', '5 oz (142 g)', '7.9 oz (223 g)',\n",
       "       '9 oz (255 g)', '12.3 oz (348 g)', '11.8 oz (335 g)',\n",
       "       '4.6 oz (130 g)', '4.3 oz (123 g)', '4.1 oz (116 g)',\n",
       "       '4.5 oz (128 g)', '4.3 oz (121 g)', '2.6 oz (75 g)',\n",
       "       '5.9 oz (168 g)', '1.3 oz (38 g)', '3.1 oz (87 g)',\n",
       "       '1.2 oz (34 g)', '5.2 oz (149 g)', '2.7 oz (77 g)',\n",
       "       '1 cookie (33 g)', '1 oz (29 g)', '6.3 oz (179 g)',\n",
       "       '6.4 oz (182 g)', '16 fl oz cup', '21 fl oz cup', '30 fl oz cup',\n",
       "       '12 fl oz cup', '1 carton (236 ml)', '6 fl oz (177 ml)',\n",
       "       '22 fl oz cup', '16.9 fl oz', '20 fl oz cup', '32 fl oz cup',\n",
       "       '16.2 oz (460 g)', '7.3 oz (207 g)', '10.1 oz (285 g)',\n",
       "       '13.4 oz (381 g)', '14.2 oz (403 g)'], dtype=object)"
      ]
     },
     "execution_count": 11,
     "metadata": {},
     "output_type": "execute_result"
    }
   ],
   "source": [
    "data['Serving Size'].unique()"
   ]
  },
  {
   "cell_type": "code",
   "execution_count": 12,
   "id": "275a1b19",
   "metadata": {},
   "outputs": [],
   "source": [
    "units = []\n",
    "\n",
    "def get_grams(serving):\n",
    "    units.append(0)\n",
    "    return np.float(re.search(r'(?<=\\()[\\d]+', serving).group(0))\n",
    "\n",
    "def get_ml(serving):\n",
    "    units.append(1)\n",
    "    return np.float(re.search(r'(?<=\\()[\\d]+', serving).group(0))\n",
    "\n",
    "def get_fl_oz(serving):\n",
    "    units.append(2)\n",
    "    return np.float(re.search(r'^[\\d.]+', serving).group(0))"
   ]
  },
  {
   "cell_type": "code",
   "execution_count": 13,
   "id": "16bb8e0f",
   "metadata": {},
   "outputs": [],
   "source": [
    "def get_units(serving):\n",
    "    if ' g)' in serving:\n",
    "        return get_grams(serving)\n",
    "    \n",
    "    elif ' ml)' in serving:\n",
    "        return get_ml(serving)\n",
    "    \n",
    "    else:\n",
    "        return get_fl_oz(serving)"
   ]
  },
  {
   "cell_type": "code",
   "execution_count": 14,
   "id": "28b6beee",
   "metadata": {},
   "outputs": [],
   "source": [
    "data['Serving Size'] = data['Serving Size'].apply(get_units)\n",
    "data['Serving Units'] = units"
   ]
  },
  {
   "cell_type": "code",
   "execution_count": 15,
   "id": "0e690dc2",
   "metadata": {},
   "outputs": [],
   "source": [
    "def onehot_encode(df, column, prefix):\n",
    "    df = df.copy()\n",
    "    dummies = pd.get_dummies(df[column], prefix=prefix)\n",
    "    df = pd.concat([df, dummies], axis=1)\n",
    "    df = df.drop(column, axis=1)\n",
    "    return df"
   ]
  },
  {
   "cell_type": "code",
   "execution_count": 16,
   "id": "7a9b1be8",
   "metadata": {},
   "outputs": [],
   "source": [
    "data = onehot_encode(data, 'Serving Units', 'units')"
   ]
  },
  {
   "cell_type": "markdown",
   "id": "9b1f0f2d",
   "metadata": {},
   "source": [
    "Splitting/Scaling"
   ]
  },
  {
   "cell_type": "code",
   "execution_count": 17,
   "id": "ba56c99d",
   "metadata": {},
   "outputs": [],
   "source": [
    "y = data['Category'].copy()\n",
    "X = data.drop('Category', axis=1).copy()"
   ]
  },
  {
   "cell_type": "code",
   "execution_count": 18,
   "id": "367cda80",
   "metadata": {},
   "outputs": [],
   "source": [
    "scaler = StandardScaler()\n",
    "\n",
    "X = scaler.fit_transform(X)"
   ]
  },
  {
   "cell_type": "code",
   "execution_count": 19,
   "id": "4fd1120f",
   "metadata": {},
   "outputs": [],
   "source": [
    "names_train, names_test, X_train, X_test, y_train, y_test = train_test_split(names, X, y, train_size=0.7)"
   ]
  },
  {
   "cell_type": "markdown",
   "id": "9de42e43",
   "metadata": {},
   "source": [
    "Modeling"
   ]
  },
  {
   "cell_type": "code",
   "execution_count": 20,
   "id": "de06db1a",
   "metadata": {},
   "outputs": [
    {
     "name": "stdout",
     "output_type": "stream",
     "text": [
      "Number of classes: 9\n",
      "Name feature length: 9\n",
      "Other feature length: 25\n"
     ]
    }
   ],
   "source": [
    "num_classes = len(y.unique())\n",
    "print(\"Number of classes:\", num_classes)\n",
    "\n",
    "name_feature_length = names.shape[1]\n",
    "print(\"Name feature length:\", name_feature_length)\n",
    "\n",
    "other_feature_length = X.shape[1]\n",
    "print(\"Other feature length:\", other_feature_length)"
   ]
  },
  {
   "cell_type": "code",
   "execution_count": 21,
   "id": "9207cf95",
   "metadata": {},
   "outputs": [],
   "source": [
    "# Name features\n",
    "name_input = tf.keras.Input(shape=(name_feature_length,), name=\"name_input\")\n",
    "\n",
    "name_embedding = tf.keras.layers.Embedding(\n",
    "    input_dim=vocab_length,\n",
    "    output_dim=64,\n",
    "    input_length=name_feature_length,\n",
    "    name=\"name_embedding\"\n",
    ")(name_input)\n",
    "\n",
    "name_flatten = tf.keras.layers.Flatten(name=\"name_flatten\")(name_embedding)\n",
    "\n",
    "\n",
    "# Other features\n",
    "other_input = tf.keras.Input(shape=(other_feature_length,), name=\"other_input\")\n",
    "\n",
    "dense_1 = tf.keras.layers.Dense(64, activation='relu', name=\"dense_1\")(other_input)\n",
    "dense_2 = tf.keras.layers.Dense(64, activation='relu', name=\"dense_2\")(dense_1)\n",
    "\n",
    "\n",
    "# Combined\n",
    "concat = tf.keras.layers.concatenate([name_flatten, dense_2], name=\"concatenate\")\n",
    "\n",
    "outputs = tf.keras.layers.Dense(num_classes, activation='softmax', name=\"output_layer\")(concat)\n",
    "\n",
    "\n",
    "# Create model\n",
    "model = tf.keras.Model(inputs=[name_input, other_input], outputs=outputs)"
   ]
  },
  {
   "cell_type": "code",
   "execution_count": 22,
   "id": "9589a3d7",
   "metadata": {},
   "outputs": [
    {
     "name": "stdout",
     "output_type": "stream",
     "text": [
      "Model: \"model\"\n",
      "__________________________________________________________________________________________________\n",
      " Layer (type)                Output Shape                 Param #   Connected to                  \n",
      "==================================================================================================\n",
      " name_input (InputLayer)     [(None, 9)]                  0         []                            \n",
      "                                                                                                  \n",
      " other_input (InputLayer)    [(None, 25)]                 0         []                            \n",
      "                                                                                                  \n",
      " name_embedding (Embedding)  (None, 9, 64)                9920      ['name_input[0][0]']          \n",
      "                                                                                                  \n",
      " dense_1 (Dense)             (None, 64)                   1664      ['other_input[0][0]']         \n",
      "                                                                                                  \n",
      " name_flatten (Flatten)      (None, 576)                  0         ['name_embedding[0][0]']      \n",
      "                                                                                                  \n",
      " dense_2 (Dense)             (None, 64)                   4160      ['dense_1[0][0]']             \n",
      "                                                                                                  \n",
      " concatenate (Concatenate)   (None, 640)                  0         ['name_flatten[0][0]',        \n",
      "                                                                     'dense_2[0][0]']             \n",
      "                                                                                                  \n",
      " output_layer (Dense)        (None, 9)                    5769      ['concatenate[0][0]']         \n",
      "                                                                                                  \n",
      "==================================================================================================\n",
      "Total params: 21513 (84.04 KB)\n",
      "Trainable params: 21513 (84.04 KB)\n",
      "Non-trainable params: 0 (0.00 Byte)\n",
      "__________________________________________________________________________________________________\n",
      "None\n",
      "You must install pydot (`pip install pydot`) and install graphviz (see instructions at https://graphviz.gitlab.io/download/) for plot_model to work.\n"
     ]
    }
   ],
   "source": [
    "print(model.summary())\n",
    "tf.keras.utils.plot_model(model)"
   ]
  },
  {
   "cell_type": "code",
   "execution_count": 23,
   "id": "dfd82b20",
   "metadata": {},
   "outputs": [
    {
     "name": "stdout",
     "output_type": "stream",
     "text": [
      "Epoch 1/100\n",
      "5/5 [==============================] - 1s 39ms/step - loss: 2.2065 - accuracy: 0.0690 - val_loss: 2.0751 - val_accuracy: 0.4865 - lr: 0.0010\n",
      "Epoch 2/100\n",
      "5/5 [==============================] - 0s 6ms/step - loss: 2.0324 - accuracy: 0.4966 - val_loss: 1.9523 - val_accuracy: 0.6216 - lr: 0.0010\n",
      "Epoch 3/100\n",
      "5/5 [==============================] - 0s 7ms/step - loss: 1.8806 - accuracy: 0.6000 - val_loss: 1.8267 - val_accuracy: 0.6216 - lr: 0.0010\n",
      "Epoch 4/100\n",
      "5/5 [==============================] - 0s 6ms/step - loss: 1.7264 - accuracy: 0.6207 - val_loss: 1.6959 - val_accuracy: 0.6486 - lr: 0.0010\n",
      "Epoch 5/100\n",
      "5/5 [==============================] - 0s 7ms/step - loss: 1.5718 - accuracy: 0.6207 - val_loss: 1.5671 - val_accuracy: 0.6757 - lr: 0.0010\n",
      "Epoch 6/100\n",
      "5/5 [==============================] - 0s 7ms/step - loss: 1.4191 - accuracy: 0.6276 - val_loss: 1.4430 - val_accuracy: 0.6757 - lr: 0.0010\n",
      "Epoch 7/100\n",
      "5/5 [==============================] - 0s 7ms/step - loss: 1.2674 - accuracy: 0.6276 - val_loss: 1.3304 - val_accuracy: 0.6757 - lr: 0.0010\n",
      "Epoch 8/100\n",
      "5/5 [==============================] - 0s 7ms/step - loss: 1.1315 - accuracy: 0.6345 - val_loss: 1.2352 - val_accuracy: 0.6757 - lr: 0.0010\n",
      "Epoch 9/100\n",
      "5/5 [==============================] - 0s 6ms/step - loss: 1.0094 - accuracy: 0.6759 - val_loss: 1.1589 - val_accuracy: 0.7027 - lr: 0.0010\n",
      "Epoch 10/100\n",
      "5/5 [==============================] - 0s 7ms/step - loss: 0.8941 - accuracy: 0.7379 - val_loss: 1.0930 - val_accuracy: 0.7297 - lr: 0.0010\n",
      "Epoch 11/100\n",
      "5/5 [==============================] - 0s 7ms/step - loss: 0.7930 - accuracy: 0.8069 - val_loss: 1.0425 - val_accuracy: 0.7568 - lr: 0.0010\n",
      "Epoch 12/100\n",
      "5/5 [==============================] - 0s 6ms/step - loss: 0.6998 - accuracy: 0.8621 - val_loss: 0.9951 - val_accuracy: 0.8108 - lr: 0.0010\n",
      "Epoch 13/100\n",
      "5/5 [==============================] - 0s 6ms/step - loss: 0.6190 - accuracy: 0.8966 - val_loss: 0.9569 - val_accuracy: 0.8108 - lr: 0.0010\n",
      "Epoch 14/100\n",
      "5/5 [==============================] - 0s 6ms/step - loss: 0.5447 - accuracy: 0.9379 - val_loss: 0.9213 - val_accuracy: 0.7838 - lr: 0.0010\n",
      "Epoch 15/100\n",
      "5/5 [==============================] - 0s 7ms/step - loss: 0.4827 - accuracy: 0.9448 - val_loss: 0.8909 - val_accuracy: 0.7838 - lr: 0.0010\n",
      "Epoch 16/100\n",
      "5/5 [==============================] - 0s 6ms/step - loss: 0.4283 - accuracy: 0.9724 - val_loss: 0.8590 - val_accuracy: 0.7838 - lr: 0.0010\n",
      "Epoch 17/100\n",
      "5/5 [==============================] - 0s 7ms/step - loss: 0.3785 - accuracy: 0.9793 - val_loss: 0.8325 - val_accuracy: 0.7838 - lr: 0.0010\n",
      "Epoch 18/100\n",
      "5/5 [==============================] - 0s 7ms/step - loss: 0.3361 - accuracy: 0.9862 - val_loss: 0.8073 - val_accuracy: 0.8108 - lr: 0.0010\n",
      "Epoch 19/100\n",
      "5/5 [==============================] - 0s 7ms/step - loss: 0.3013 - accuracy: 0.9862 - val_loss: 0.7868 - val_accuracy: 0.8108 - lr: 0.0010\n",
      "Epoch 20/100\n",
      "5/5 [==============================] - 0s 6ms/step - loss: 0.2700 - accuracy: 0.9862 - val_loss: 0.7680 - val_accuracy: 0.8108 - lr: 0.0010\n",
      "Epoch 21/100\n",
      "5/5 [==============================] - 0s 6ms/step - loss: 0.2446 - accuracy: 0.9862 - val_loss: 0.7532 - val_accuracy: 0.7838 - lr: 0.0010\n",
      "Epoch 22/100\n",
      "5/5 [==============================] - 0s 33ms/step - loss: 0.2214 - accuracy: 0.9862 - val_loss: 0.7421 - val_accuracy: 0.7838 - lr: 0.0010\n",
      "Epoch 23/100\n",
      "5/5 [==============================] - 0s 10ms/step - loss: 0.2011 - accuracy: 0.9862 - val_loss: 0.7248 - val_accuracy: 0.7838 - lr: 0.0010\n",
      "Epoch 24/100\n",
      "5/5 [==============================] - 0s 8ms/step - loss: 0.1836 - accuracy: 0.9862 - val_loss: 0.7088 - val_accuracy: 0.8108 - lr: 0.0010\n",
      "Epoch 25/100\n",
      "5/5 [==============================] - 0s 8ms/step - loss: 0.1674 - accuracy: 0.9862 - val_loss: 0.6919 - val_accuracy: 0.8108 - lr: 0.0010\n",
      "Epoch 26/100\n",
      "5/5 [==============================] - 0s 8ms/step - loss: 0.1548 - accuracy: 0.9862 - val_loss: 0.6756 - val_accuracy: 0.8108 - lr: 0.0010\n",
      "Epoch 27/100\n",
      "5/5 [==============================] - 0s 9ms/step - loss: 0.1411 - accuracy: 0.9862 - val_loss: 0.6632 - val_accuracy: 0.8108 - lr: 0.0010\n",
      "Epoch 28/100\n",
      "5/5 [==============================] - 0s 8ms/step - loss: 0.1301 - accuracy: 0.9862 - val_loss: 0.6506 - val_accuracy: 0.8108 - lr: 0.0010\n",
      "Epoch 29/100\n",
      "5/5 [==============================] - 0s 8ms/step - loss: 0.1205 - accuracy: 0.9862 - val_loss: 0.6375 - val_accuracy: 0.8108 - lr: 0.0010\n",
      "Epoch 30/100\n",
      "5/5 [==============================] - 0s 8ms/step - loss: 0.1114 - accuracy: 0.9862 - val_loss: 0.6230 - val_accuracy: 0.8108 - lr: 0.0010\n",
      "Epoch 31/100\n",
      "5/5 [==============================] - 0s 14ms/step - loss: 0.1032 - accuracy: 0.9931 - val_loss: 0.6050 - val_accuracy: 0.8108 - lr: 0.0010\n",
      "Epoch 32/100\n",
      "5/5 [==============================] - 0s 13ms/step - loss: 0.0959 - accuracy: 0.9931 - val_loss: 0.5905 - val_accuracy: 0.8108 - lr: 0.0010\n",
      "Epoch 33/100\n",
      "5/5 [==============================] - 0s 13ms/step - loss: 0.0884 - accuracy: 0.9931 - val_loss: 0.5789 - val_accuracy: 0.8108 - lr: 0.0010\n",
      "Epoch 34/100\n",
      "5/5 [==============================] - 0s 7ms/step - loss: 0.0832 - accuracy: 0.9931 - val_loss: 0.5670 - val_accuracy: 0.8108 - lr: 0.0010\n",
      "Epoch 35/100\n",
      "5/5 [==============================] - 0s 6ms/step - loss: 0.0767 - accuracy: 0.9931 - val_loss: 0.5553 - val_accuracy: 0.8108 - lr: 0.0010\n",
      "Epoch 36/100\n",
      "5/5 [==============================] - 0s 6ms/step - loss: 0.0713 - accuracy: 0.9931 - val_loss: 0.5452 - val_accuracy: 0.8108 - lr: 0.0010\n",
      "Epoch 37/100\n",
      "5/5 [==============================] - 0s 8ms/step - loss: 0.0669 - accuracy: 1.0000 - val_loss: 0.5365 - val_accuracy: 0.8108 - lr: 0.0010\n",
      "Epoch 38/100\n",
      "5/5 [==============================] - 0s 7ms/step - loss: 0.0625 - accuracy: 1.0000 - val_loss: 0.5272 - val_accuracy: 0.8108 - lr: 0.0010\n",
      "Epoch 39/100\n",
      "5/5 [==============================] - 0s 6ms/step - loss: 0.0578 - accuracy: 1.0000 - val_loss: 0.5202 - val_accuracy: 0.8108 - lr: 0.0010\n",
      "Epoch 40/100\n",
      "5/5 [==============================] - 0s 6ms/step - loss: 0.0546 - accuracy: 1.0000 - val_loss: 0.5091 - val_accuracy: 0.8108 - lr: 0.0010\n",
      "Epoch 41/100\n",
      "5/5 [==============================] - 0s 6ms/step - loss: 0.0511 - accuracy: 1.0000 - val_loss: 0.5008 - val_accuracy: 0.8108 - lr: 0.0010\n",
      "Epoch 42/100\n",
      "5/5 [==============================] - 0s 6ms/step - loss: 0.0478 - accuracy: 1.0000 - val_loss: 0.4953 - val_accuracy: 0.8108 - lr: 0.0010\n",
      "Epoch 43/100\n",
      "5/5 [==============================] - 0s 6ms/step - loss: 0.0452 - accuracy: 1.0000 - val_loss: 0.4880 - val_accuracy: 0.8108 - lr: 0.0010\n",
      "Epoch 44/100\n",
      "5/5 [==============================] - 0s 6ms/step - loss: 0.0422 - accuracy: 1.0000 - val_loss: 0.4808 - val_accuracy: 0.8108 - lr: 0.0010\n",
      "Epoch 45/100\n",
      "5/5 [==============================] - 0s 6ms/step - loss: 0.0396 - accuracy: 1.0000 - val_loss: 0.4770 - val_accuracy: 0.8108 - lr: 0.0010\n",
      "Epoch 46/100\n",
      "5/5 [==============================] - 0s 6ms/step - loss: 0.0375 - accuracy: 1.0000 - val_loss: 0.4704 - val_accuracy: 0.8108 - lr: 0.0010\n",
      "Epoch 47/100\n",
      "5/5 [==============================] - 0s 6ms/step - loss: 0.0353 - accuracy: 1.0000 - val_loss: 0.4640 - val_accuracy: 0.8108 - lr: 0.0010\n",
      "Epoch 48/100\n",
      "5/5 [==============================] - 0s 7ms/step - loss: 0.0335 - accuracy: 1.0000 - val_loss: 0.4605 - val_accuracy: 0.8108 - lr: 0.0010\n",
      "Epoch 49/100\n",
      "5/5 [==============================] - 0s 6ms/step - loss: 0.0317 - accuracy: 1.0000 - val_loss: 0.4577 - val_accuracy: 0.8108 - lr: 0.0010\n",
      "Epoch 50/100\n",
      "5/5 [==============================] - 0s 6ms/step - loss: 0.0301 - accuracy: 1.0000 - val_loss: 0.4554 - val_accuracy: 0.8108 - lr: 0.0010\n",
      "Epoch 51/100\n",
      "5/5 [==============================] - 0s 6ms/step - loss: 0.0286 - accuracy: 1.0000 - val_loss: 0.4534 - val_accuracy: 0.8108 - lr: 0.0010\n",
      "Epoch 52/100\n",
      "5/5 [==============================] - 0s 6ms/step - loss: 0.0270 - accuracy: 1.0000 - val_loss: 0.4482 - val_accuracy: 0.8378 - lr: 0.0010\n",
      "Epoch 53/100\n",
      "5/5 [==============================] - 0s 6ms/step - loss: 0.0258 - accuracy: 1.0000 - val_loss: 0.4443 - val_accuracy: 0.8378 - lr: 0.0010\n",
      "Epoch 54/100\n"
     ]
    },
    {
     "name": "stdout",
     "output_type": "stream",
     "text": [
      "5/5 [==============================] - 0s 7ms/step - loss: 0.0245 - accuracy: 1.0000 - val_loss: 0.4411 - val_accuracy: 0.8378 - lr: 0.0010\n",
      "Epoch 55/100\n",
      "5/5 [==============================] - 0s 6ms/step - loss: 0.0234 - accuracy: 1.0000 - val_loss: 0.4382 - val_accuracy: 0.8378 - lr: 0.0010\n",
      "Epoch 56/100\n",
      "5/5 [==============================] - 0s 6ms/step - loss: 0.0223 - accuracy: 1.0000 - val_loss: 0.4371 - val_accuracy: 0.8378 - lr: 0.0010\n",
      "Epoch 57/100\n",
      "5/5 [==============================] - 0s 6ms/step - loss: 0.0212 - accuracy: 1.0000 - val_loss: 0.4380 - val_accuracy: 0.8378 - lr: 0.0010\n",
      "Epoch 58/100\n",
      "5/5 [==============================] - 0s 6ms/step - loss: 0.0204 - accuracy: 1.0000 - val_loss: 0.4376 - val_accuracy: 0.8378 - lr: 0.0010\n",
      "Epoch 59/100\n",
      "5/5 [==============================] - 0s 6ms/step - loss: 0.0194 - accuracy: 1.0000 - val_loss: 0.4386 - val_accuracy: 0.8378 - lr: 0.0010\n",
      "Epoch 60/100\n",
      "5/5 [==============================] - 0s 6ms/step - loss: 0.0186 - accuracy: 1.0000 - val_loss: 0.4391 - val_accuracy: 0.8378 - lr: 0.0010\n",
      "Epoch 61/100\n",
      "5/5 [==============================] - 0s 6ms/step - loss: 0.0178 - accuracy: 1.0000 - val_loss: 0.4400 - val_accuracy: 0.8378 - lr: 0.0010\n",
      "Epoch 62/100\n",
      "5/5 [==============================] - 0s 6ms/step - loss: 0.0172 - accuracy: 1.0000 - val_loss: 0.4375 - val_accuracy: 0.8378 - lr: 0.0010\n",
      "Epoch 63/100\n",
      "5/5 [==============================] - 0s 6ms/step - loss: 0.0165 - accuracy: 1.0000 - val_loss: 0.4350 - val_accuracy: 0.8378 - lr: 0.0010\n",
      "Epoch 64/100\n",
      "5/5 [==============================] - 0s 6ms/step - loss: 0.0158 - accuracy: 1.0000 - val_loss: 0.4341 - val_accuracy: 0.8378 - lr: 0.0010\n",
      "Epoch 65/100\n",
      "5/5 [==============================] - 0s 6ms/step - loss: 0.0152 - accuracy: 1.0000 - val_loss: 0.4351 - val_accuracy: 0.8378 - lr: 0.0010\n",
      "Epoch 66/100\n",
      "5/5 [==============================] - 0s 6ms/step - loss: 0.0146 - accuracy: 1.0000 - val_loss: 0.4342 - val_accuracy: 0.8378 - lr: 0.0010\n",
      "Epoch 67/100\n",
      "5/5 [==============================] - 0s 6ms/step - loss: 0.0141 - accuracy: 1.0000 - val_loss: 0.4341 - val_accuracy: 0.8378 - lr: 0.0010\n",
      "Epoch 68/100\n",
      "5/5 [==============================] - 0s 6ms/step - loss: 0.0136 - accuracy: 1.0000 - val_loss: 0.4337 - val_accuracy: 0.8378 - lr: 0.0010\n",
      "Epoch 69/100\n",
      "5/5 [==============================] - 0s 6ms/step - loss: 0.0131 - accuracy: 1.0000 - val_loss: 0.4341 - val_accuracy: 0.8378 - lr: 0.0010\n",
      "Epoch 70/100\n",
      "5/5 [==============================] - 0s 6ms/step - loss: 0.0127 - accuracy: 1.0000 - val_loss: 0.4347 - val_accuracy: 0.8378 - lr: 0.0010\n",
      "Epoch 71/100\n",
      "5/5 [==============================] - 0s 6ms/step - loss: 0.0122 - accuracy: 1.0000 - val_loss: 0.4363 - val_accuracy: 0.8378 - lr: 0.0010\n",
      "Epoch 72/100\n",
      "5/5 [==============================] - 0s 6ms/step - loss: 0.0118 - accuracy: 1.0000 - val_loss: 0.4356 - val_accuracy: 0.8378 - lr: 0.0010\n",
      "Epoch 73/100\n",
      "5/5 [==============================] - 0s 6ms/step - loss: 0.0114 - accuracy: 1.0000 - val_loss: 0.4349 - val_accuracy: 0.8378 - lr: 0.0010\n",
      "Epoch 74/100\n",
      "5/5 [==============================] - 0s 6ms/step - loss: 0.0110 - accuracy: 1.0000 - val_loss: 0.4366 - val_accuracy: 0.8378 - lr: 0.0010\n",
      "Epoch 75/100\n",
      "5/5 [==============================] - 0s 6ms/step - loss: 0.0107 - accuracy: 1.0000 - val_loss: 0.4368 - val_accuracy: 0.8378 - lr: 0.0010\n",
      "Epoch 76/100\n",
      "5/5 [==============================] - 0s 6ms/step - loss: 0.0103 - accuracy: 1.0000 - val_loss: 0.4388 - val_accuracy: 0.8378 - lr: 0.0010\n",
      "Epoch 77/100\n",
      "5/5 [==============================] - 0s 6ms/step - loss: 0.0100 - accuracy: 1.0000 - val_loss: 0.4387 - val_accuracy: 0.8378 - lr: 0.0010\n",
      "Epoch 78/100\n",
      "5/5 [==============================] - 0s 6ms/step - loss: 0.0097 - accuracy: 1.0000 - val_loss: 0.4383 - val_accuracy: 0.8378 - lr: 0.0010\n",
      "Epoch 79/100\n",
      "5/5 [==============================] - 0s 6ms/step - loss: 0.0095 - accuracy: 1.0000 - val_loss: 0.4384 - val_accuracy: 0.8378 - lr: 1.0000e-04\n",
      "Epoch 80/100\n",
      "5/5 [==============================] - 0s 6ms/step - loss: 0.0094 - accuracy: 1.0000 - val_loss: 0.4383 - val_accuracy: 0.8378 - lr: 1.0000e-04\n",
      "Epoch 81/100\n",
      "5/5 [==============================] - 0s 6ms/step - loss: 0.0094 - accuracy: 1.0000 - val_loss: 0.4383 - val_accuracy: 0.8378 - lr: 1.0000e-04\n",
      "Epoch 82/100\n",
      "5/5 [==============================] - 0s 6ms/step - loss: 0.0094 - accuracy: 1.0000 - val_loss: 0.4384 - val_accuracy: 0.8378 - lr: 1.0000e-04\n",
      "Epoch 83/100\n",
      "5/5 [==============================] - 0s 6ms/step - loss: 0.0094 - accuracy: 1.0000 - val_loss: 0.4384 - val_accuracy: 0.8378 - lr: 1.0000e-04\n",
      "Epoch 84/100\n",
      "5/5 [==============================] - 0s 6ms/step - loss: 0.0093 - accuracy: 1.0000 - val_loss: 0.4384 - val_accuracy: 0.8378 - lr: 1.0000e-04\n",
      "Epoch 85/100\n",
      "5/5 [==============================] - 0s 6ms/step - loss: 0.0093 - accuracy: 1.0000 - val_loss: 0.4385 - val_accuracy: 0.8378 - lr: 1.0000e-04\n",
      "Epoch 86/100\n",
      "5/5 [==============================] - 0s 6ms/step - loss: 0.0093 - accuracy: 1.0000 - val_loss: 0.4386 - val_accuracy: 0.8378 - lr: 1.0000e-04\n",
      "Epoch 87/100\n",
      "5/5 [==============================] - 0s 6ms/step - loss: 0.0093 - accuracy: 1.0000 - val_loss: 0.4387 - val_accuracy: 0.8378 - lr: 1.0000e-04\n",
      "Epoch 88/100\n",
      "5/5 [==============================] - 0s 6ms/step - loss: 0.0092 - accuracy: 1.0000 - val_loss: 0.4388 - val_accuracy: 0.8378 - lr: 1.0000e-04\n",
      "Epoch 89/100\n",
      "5/5 [==============================] - 0s 6ms/step - loss: 0.0092 - accuracy: 1.0000 - val_loss: 0.4389 - val_accuracy: 0.8378 - lr: 1.0000e-05\n",
      "Epoch 90/100\n",
      "5/5 [==============================] - 0s 6ms/step - loss: 0.0092 - accuracy: 1.0000 - val_loss: 0.4389 - val_accuracy: 0.8378 - lr: 1.0000e-05\n",
      "Epoch 91/100\n",
      "5/5 [==============================] - 0s 7ms/step - loss: 0.0092 - accuracy: 1.0000 - val_loss: 0.4389 - val_accuracy: 0.8378 - lr: 1.0000e-05\n",
      "Epoch 92/100\n",
      "5/5 [==============================] - 0s 6ms/step - loss: 0.0092 - accuracy: 1.0000 - val_loss: 0.4389 - val_accuracy: 0.8378 - lr: 1.0000e-05\n",
      "Epoch 93/100\n",
      "5/5 [==============================] - 0s 6ms/step - loss: 0.0092 - accuracy: 1.0000 - val_loss: 0.4389 - val_accuracy: 0.8378 - lr: 1.0000e-05\n",
      "Epoch 94/100\n",
      "5/5 [==============================] - 0s 6ms/step - loss: 0.0092 - accuracy: 1.0000 - val_loss: 0.4389 - val_accuracy: 0.8378 - lr: 1.0000e-05\n",
      "Epoch 95/100\n",
      "5/5 [==============================] - 0s 6ms/step - loss: 0.0092 - accuracy: 1.0000 - val_loss: 0.4389 - val_accuracy: 0.8378 - lr: 1.0000e-05\n",
      "Epoch 96/100\n",
      "5/5 [==============================] - 0s 6ms/step - loss: 0.0092 - accuracy: 1.0000 - val_loss: 0.4390 - val_accuracy: 0.8378 - lr: 1.0000e-05\n",
      "Epoch 97/100\n",
      "5/5 [==============================] - 0s 6ms/step - loss: 0.0092 - accuracy: 1.0000 - val_loss: 0.4390 - val_accuracy: 0.8378 - lr: 1.0000e-05\n",
      "Epoch 98/100\n",
      "5/5 [==============================] - 0s 6ms/step - loss: 0.0092 - accuracy: 1.0000 - val_loss: 0.4390 - val_accuracy: 0.8378 - lr: 1.0000e-05\n",
      "Epoch 99/100\n",
      "5/5 [==============================] - 0s 6ms/step - loss: 0.0092 - accuracy: 1.0000 - val_loss: 0.4390 - val_accuracy: 0.8378 - lr: 1.0000e-06\n",
      "Epoch 100/100\n",
      "5/5 [==============================] - 0s 6ms/step - loss: 0.0092 - accuracy: 1.0000 - val_loss: 0.4390 - val_accuracy: 0.8378 - lr: 1.0000e-06\n"
     ]
    }
   ],
   "source": [
    "batch_size = 32\n",
    "epochs = 100\n",
    "\n",
    "model.compile(\n",
    "    optimizer='adam',\n",
    "    loss='sparse_categorical_crossentropy',\n",
    "    metrics=['accuracy']\n",
    ")\n",
    "\n",
    "history = model.fit(\n",
    "    [names_train, X_train],\n",
    "    y_train,\n",
    "    validation_split=0.2,\n",
    "    batch_size=batch_size,\n",
    "    epochs=epochs,\n",
    "    callbacks=[\n",
    "        tf.keras.callbacks.ReduceLROnPlateau()\n",
    "    ]\n",
    ")"
   ]
  },
  {
   "cell_type": "markdown",
   "id": "38e87483",
   "metadata": {},
   "source": [
    "Training"
   ]
  },
  {
   "cell_type": "code",
   "execution_count": 24,
   "id": "ff742922",
   "metadata": {},
   "outputs": [
    {
     "name": "stdout",
     "output_type": "stream",
     "text": [
      "Model Accuracy: 0.9230769276618958\n"
     ]
    }
   ],
   "source": [
    "results = model.evaluate([names_test, X_test], y_test, verbose=0)\n",
    "\n",
    "print(\"Model Accuracy:\", results[1])"
   ]
  }
 ],
 "metadata": {
  "kernelspec": {
   "display_name": "Python 3 (ipykernel)",
   "language": "python",
   "name": "python3"
  },
  "language_info": {
   "codemirror_mode": {
    "name": "ipython",
    "version": 3
   },
   "file_extension": ".py",
   "mimetype": "text/x-python",
   "name": "python",
   "nbconvert_exporter": "python",
   "pygments_lexer": "ipython3",
   "version": "3.10.9"
  }
 },
 "nbformat": 4,
 "nbformat_minor": 5
}
